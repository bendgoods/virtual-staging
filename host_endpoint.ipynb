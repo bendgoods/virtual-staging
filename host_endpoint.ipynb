{
 "cells": [
  {
   "cell_type": "markdown",
   "id": "4ad2215b",
   "metadata": {},
   "source": [
    "### Import libraries and AWS configs"
   ]
  },
  {
   "cell_type": "code",
   "execution_count": 1,
   "id": "a8eeea0e",
   "metadata": {},
   "outputs": [],
   "source": [
    "import os\n",
    "import boto3\n",
    "from sagemaker import get_execution_role, Session, s3\n",
    "from sagemaker.deserializers import JSONDeserializer\n",
    "from sagemaker.pytorch import PyTorchModel\n",
    "from sagemaker.serverless.serverless_inference_config import ServerlessInferenceConfig\n",
    "from time import gmtime, strftime"
   ]
  },
  {
   "cell_type": "code",
   "execution_count": 2,
   "id": "9bce3f0f",
   "metadata": {},
   "outputs": [],
   "source": [
    "# Load config file \n",
    "from basic_utils.utils import load_config\n",
    "config = load_config(\"sagemaker_files/config.yaml\")"
   ]
  },
  {
   "cell_type": "code",
   "execution_count": 3,
   "id": "79104cf8",
   "metadata": {},
   "outputs": [],
   "source": [
    "role = get_execution_role()\n",
    "sess = Session()\n",
    "region = sess.boto_region_name\n",
    "sm_client = boto3.client(\"sagemaker\", region_name=region)"
   ]
  },
  {
   "cell_type": "markdown",
   "id": "fb721aa2",
   "metadata": {},
   "source": [
    "### Create model"
   ]
  },
  {
   "cell_type": "code",
   "execution_count": 7,
   "id": "e22c40fd",
   "metadata": {},
   "outputs": [],
   "source": [
    "# Create model\n",
    "import boto3\n",
    "from sagemaker import get_execution_role\n",
    "\n",
    "sm_client = boto3.client(service_name='sagemaker')\n",
    "runtime_sm_client = boto3.client(service_name='sagemaker-runtime')\n",
    "\n",
    "# account_id = boto3.client('sts').get_caller_identity()['Account']\n",
    "region = boto3.Session().region_name\n",
    "\n",
    "role = get_execution_role()"
   ]
  },
  {
   "cell_type": "code",
   "execution_count": null,
   "id": "a877ef82",
   "metadata": {},
   "outputs": [],
   "source": [
    "\n",
    "from time import gmtime, strftime\n",
    "\n",
    "model_name = config.MODEL_NAME \n",
    "\n",
    "container = config.IMAGE_URL\n",
    "instance_type = config.INSTANCE_TYPE\n",
    "\n",
    "print('Model name: ' + model_name)\n",
    "# print('Model data Url: ' + model_url)\n",
    "print('Container image: ' + container)\n",
    "\n",
    "container = {\n",
    "    'Image': container\n",
    "}\n",
    "\n",
    "create_model_response = sm_client.create_model(\n",
    "    ModelName = model_name,\n",
    "    ExecutionRoleArn = role,\n",
    "    Containers = [container])\n",
    "\n",
    "print(\"Model Arn: \" + create_model_response['ModelArn'])"
   ]
  },
  {
   "cell_type": "markdown",
   "id": "8696d11f",
   "metadata": {},
   "source": [
    "### Clean up (delete endpoint)"
   ]
  },
  {
   "cell_type": "code",
   "execution_count": 8,
   "id": "550cabca",
   "metadata": {},
   "outputs": [
    {
     "data": {
      "text/plain": [
       "{'ResponseMetadata': {'RequestId': 'f24ec47f-f963-4b51-9c4b-c8ec58ec3eba',\n",
       "  'HTTPStatusCode': 200,\n",
       "  'HTTPHeaders': {'x-amzn-requestid': 'f24ec47f-f963-4b51-9c4b-c8ec58ec3eba',\n",
       "   'content-type': 'application/x-amz-json-1.1',\n",
       "   'content-length': '0',\n",
       "   'date': 'Mon, 17 Apr 2023 06:45:57 GMT'},\n",
       "  'RetryAttempts': 0}}"
      ]
     },
     "execution_count": 8,
     "metadata": {},
     "output_type": "execute_result"
    }
   ],
   "source": [
    "# Delete endpoint when you don't need your model deployed\n",
    "sm_client.delete_endpoint(EndpointName=ENDPOINT_NAME)\n",
    "sm_client.delete_endpoint_config(EndpointConfigName=ENDPOINT_NAME)"
   ]
  },
  {
   "attachments": {},
   "cell_type": "markdown",
   "id": "240eccc7",
   "metadata": {},
   "source": [
    "Endpoint configuration"
   ]
  },
  {
   "cell_type": "code",
   "execution_count": 10,
   "id": "e63ff946",
   "metadata": {},
   "outputs": [
    {
     "name": "stdout",
     "output_type": "stream",
     "text": [
      "Model Object Watermark-Logo-Detection-2023-04-17-06-45-53 Created!\n"
     ]
    }
   ],
   "source": [
    "# Create Endpoint configuration\n",
    "print('Endpoint config name: ' + config.ENDPOINT_NAME)\n",
    "\n",
    "create_endpoint_config_response = sm_client.create_endpoint_config(\n",
    "    EndpointConfigName = config.ENDPOINT_NAME,\n",
    "    ProductionVariants=[{\n",
    "        'ModelName': model_name,\n",
    "        \"ServerlessConfig\": {\n",
    "                    \"MemorySizeInMB\": config.MEMORY_SIZE,\n",
    "                    \"MaxConcurrency\": config.MAX_CONCURRENCY,\n",
    "                },\n",
    "        'VariantName': 'AllTraffic'}])\n",
    "\n",
    "print(\"Endpoint config Arn: \" + create_endpoint_config_response['EndpointConfigArn'])"
   ]
  },
  {
   "cell_type": "markdown",
   "id": "64ec691e",
   "metadata": {},
   "source": [
    "### Deploy model to endpoint"
   ]
  },
  {
   "cell_type": "code",
   "execution_count": 11,
   "id": "da711db3",
   "metadata": {},
   "outputs": [
    {
     "name": "stdout",
     "output_type": "stream",
     "text": [
      "-----!\n",
      "Model Watermark-Logo-Detection-2023-04-17-06-45-53 deployed at endpoint watermark-logo-detection!\n"
     ]
    }
   ],
   "source": [
    "%%time\n",
    "\n",
    "import time\n",
    "\n",
    "endpoint_name = config.ENDPOINT_NAME\n",
    "endpoint_config_name = config.ENDPOINT_NAME\n",
    "print('Endpoint name: ' + endpoint_name)\n",
    "\n",
    "create_endpoint_response = sm_client.create_endpoint(\n",
    "    EndpointName=endpoint_name,\n",
    "    EndpointConfigName=endpoint_config_name)\n",
    "print('Endpoint Arn: ' + create_endpoint_response['EndpointArn'])\n",
    "\n",
    "resp = sm_client.describe_endpoint(EndpointName=endpoint_name)\n",
    "status = resp['EndpointStatus']\n",
    "print(\"Endpoint Status: \" + status)\n",
    "\n",
    "print('Waiting for {} endpoint to be in service...'.format(endpoint_name))\n",
    "waiter = sm_client.get_waiter('endpoint_in_service')\n",
    "waiter.wait(EndpointName=endpoint_name)"
   ]
  },
  {
   "cell_type": "markdown",
   "id": "93284dda",
   "metadata": {},
   "source": [
    "### Test deployed endpoint"
   ]
  },
  {
   "cell_type": "code",
   "execution_count": 12,
   "id": "751cf9ed",
   "metadata": {},
   "outputs": [
    {
     "name": "stdout",
     "output_type": "stream",
     "text": [
      "{\"detections\": \"No Logo Watermark Detected\"}\n",
      "{\"detections\": \"No Logo Watermark Detected\"}\n",
      "CPU times: user 110 ms, sys: 21.1 ms, total: 131 ms\n",
      "Wall time: 7.01 s\n"
     ]
    }
   ],
   "source": [
    "# Inference\n",
    "import boto3\n",
    "import cv2\n",
    "\n",
    "# test using image url\n",
    "ENDPOINT_NAME = config.ENDPOINT_NAME\n",
    "payload = \"https://images.livspace-cdn.com/plain/https://d3gq2merok8n5r.cloudfront.net/abhinav/ond-1634120396-Obfdc/jfm-2023-1672723560-eFGVH/balcony-1674210268-39YjC/bll-1675062554-QvyMI.jpg\"\n",
    "runtime = boto3.client(service_name='sagemaker-runtime')\n",
    "\n",
    "import json\n",
    "content_type = \"application/json\"\n",
    "request_body = {'image_url':payload}\n",
    "\n",
    "#Serialize data for endpoint\n",
    "data = json.loads(json.dumps(request_body))\n",
    "payload = json.dumps(data)\n",
    "\n",
    "#Endpoint invocation\n",
    "response = runtime.invoke_endpoint(\n",
    "    EndpointName=ENDPOINT_NAME,\n",
    "    ContentType=content_type,\n",
    "    Body=payload)\n",
    "\n",
    "#Parse results\n",
    "result = json.loads(response['Body'].read().decode())\n",
    "result"
   ]
  }
 ],
 "metadata": {
  "kernelspec": {
   "display_name": "conda_pytorch_p39",
   "language": "python",
   "name": "conda_pytorch_p39"
  },
  "language_info": {
   "codemirror_mode": {
    "name": "ipython",
    "version": 3
   },
   "file_extension": ".py",
   "mimetype": "text/x-python",
   "name": "python",
   "nbconvert_exporter": "python",
   "pygments_lexer": "ipython3",
   "version": "3.9.15"
  },
  "vscode": {
   "interpreter": {
    "hash": "330b03a39d92e6aa6c7b2c0194795b08e756026ad53b866d55c99dbcf686482d"
   }
  }
 },
 "nbformat": 4,
 "nbformat_minor": 5
}
